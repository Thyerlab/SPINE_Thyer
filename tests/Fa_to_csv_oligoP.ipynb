{
 "cells": [
  {
   "cell_type": "code",
   "execution_count": 2,
   "id": "47eb6813",
   "metadata": {},
   "outputs": [],
   "source": [
    "from Bio import SeqIO\n",
    "import pandas as pd\n",
    "from Bio.Seq import Seq\n",
    "import numpy as np\n"
   ]
  },
  {
   "cell_type": "code",
   "execution_count": 3,
   "id": "0325ef6f",
   "metadata": {},
   "outputs": [],
   "source": [
    "\n",
    "# parse sequence fasta file\n",
    "identifiers = [seq_record.id for seq_record in SeqIO.parse(\"All_Primers_mKatedrop.fasta\",\n",
    "                                                           \"fasta\")]\n",
    "lengths = [len(seq_record.seq) for seq_record in SeqIO.parse(\"All_Primers_mKatedrop.fasta\",\n",
    "                                                             \"fasta\")]\n",
    "#converting lists to pandas Series    \n",
    "s1 = pd.Series(identifiers, name='ID')\n",
    "#s2 = pd.Series(lengths, name='length')\n",
    "s3 = [str(seq_record.seq) for seq_record in SeqIO.parse(\"All_Primers_mKatedrop.fasta\",\n",
    "                                                             \"fasta\")]\n",
    "#Gathering Series into a pandas DataFrame and rename index as ID column\n",
    "Pfasta = pd.DataFrame(dict(ID=s1, seq = s3))"
   ]
  },
  {
   "cell_type": "code",
   "execution_count": 4,
   "id": "423e81ad",
   "metadata": {},
   "outputs": [
    {
     "data": {
      "text/html": [
       "<div>\n",
       "<style scoped>\n",
       "    .dataframe tbody tr th:only-of-type {\n",
       "        vertical-align: middle;\n",
       "    }\n",
       "\n",
       "    .dataframe tbody tr th {\n",
       "        vertical-align: top;\n",
       "    }\n",
       "\n",
       "    .dataframe thead th {\n",
       "        text-align: right;\n",
       "    }\n",
       "</style>\n",
       "<table border=\"1\" class=\"dataframe\">\n",
       "  <thead>\n",
       "    <tr style=\"text-align: right;\">\n",
       "      <th></th>\n",
       "      <th>ID</th>\n",
       "      <th>seq</th>\n",
       "    </tr>\n",
       "  </thead>\n",
       "  <tbody>\n",
       "    <tr>\n",
       "      <th>0</th>\n",
       "      <td>Mkandler_PSTK_oligoP_allmut-1_F</td>\n",
       "      <td>ATATAGATGCCGTCCTAGCG</td>\n",
       "    </tr>\n",
       "    <tr>\n",
       "      <th>1</th>\n",
       "      <td>Mkandler_PSTK_oligoP_allumt-1_R</td>\n",
       "      <td>ATGGTAGTAATAAGGGCGACC</td>\n",
       "    </tr>\n",
       "    <tr>\n",
       "      <th>2</th>\n",
       "      <td>Mkandler_PSTK_oligoP_allmut-2_F</td>\n",
       "      <td>GGCGAGAGGAGATATAGAGG</td>\n",
       "    </tr>\n",
       "    <tr>\n",
       "      <th>3</th>\n",
       "      <td>Mkandler_PSTK_oligoP_allumt-2_R</td>\n",
       "      <td>ATATCGAACAGCTGTGCACG</td>\n",
       "    </tr>\n",
       "    <tr>\n",
       "      <th>4</th>\n",
       "      <td>Mkandler_PSTK_oligoP_allmut-3_F</td>\n",
       "      <td>CCCGATAGCTGAGAAAGAGG</td>\n",
       "    </tr>\n",
       "    <tr>\n",
       "      <th>...</th>\n",
       "      <td>...</td>\n",
       "      <td>...</td>\n",
       "    </tr>\n",
       "    <tr>\n",
       "      <th>211</th>\n",
       "      <td>C_intmja_SD_geneP_allmut-6_F</td>\n",
       "      <td>ATAGGTCTCTTTCAAGAAAGAAAACGGCGAATTCA</td>\n",
       "    </tr>\n",
       "    <tr>\n",
       "      <th>212</th>\n",
       "      <td>C_KOD_oligoP_allmut-1_F</td>\n",
       "      <td>TATACGTCGCTTGTTCCAGTGA</td>\n",
       "    </tr>\n",
       "    <tr>\n",
       "      <th>213</th>\n",
       "      <td>C_KOD_oligoP_allumt-1_R</td>\n",
       "      <td>GTTGATCCTAGTGTTATTTTGGTCG</td>\n",
       "    </tr>\n",
       "    <tr>\n",
       "      <th>214</th>\n",
       "      <td>C_KOD_geneP_allmut-1_R</td>\n",
       "      <td>ATAGGTCTCTACGCAGTTGGGTATTATGAAGCA</td>\n",
       "    </tr>\n",
       "    <tr>\n",
       "      <th>215</th>\n",
       "      <td>C_KOD_geneP_allmut-1_F</td>\n",
       "      <td>ATAGGTCTCCAAGATTGAATACGATCGGACATTTGA</td>\n",
       "    </tr>\n",
       "  </tbody>\n",
       "</table>\n",
       "<p>216 rows × 2 columns</p>\n",
       "</div>"
      ],
      "text/plain": [
       "                                  ID                                   seq\n",
       "0    Mkandler_PSTK_oligoP_allmut-1_F                  ATATAGATGCCGTCCTAGCG\n",
       "1    Mkandler_PSTK_oligoP_allumt-1_R                 ATGGTAGTAATAAGGGCGACC\n",
       "2    Mkandler_PSTK_oligoP_allmut-2_F                  GGCGAGAGGAGATATAGAGG\n",
       "3    Mkandler_PSTK_oligoP_allumt-2_R                  ATATCGAACAGCTGTGCACG\n",
       "4    Mkandler_PSTK_oligoP_allmut-3_F                  CCCGATAGCTGAGAAAGAGG\n",
       "..                               ...                                   ...\n",
       "211     C_intmja_SD_geneP_allmut-6_F   ATAGGTCTCTTTCAAGAAAGAAAACGGCGAATTCA\n",
       "212          C_KOD_oligoP_allmut-1_F                TATACGTCGCTTGTTCCAGTGA\n",
       "213          C_KOD_oligoP_allumt-1_R             GTTGATCCTAGTGTTATTTTGGTCG\n",
       "214           C_KOD_geneP_allmut-1_R     ATAGGTCTCTACGCAGTTGGGTATTATGAAGCA\n",
       "215           C_KOD_geneP_allmut-1_F  ATAGGTCTCCAAGATTGAATACGATCGGACATTTGA\n",
       "\n",
       "[216 rows x 2 columns]"
      ]
     },
     "execution_count": 4,
     "metadata": {},
     "output_type": "execute_result"
    }
   ],
   "source": [
    "Pfasta"
   ]
  },
  {
   "cell_type": "code",
   "execution_count": 5,
   "id": "eca1ad31",
   "metadata": {},
   "outputs": [
    {
     "name": "stdout",
     "output_type": "stream",
     "text": [
      "108\n"
     ]
    }
   ],
   "source": [
    "# screen out the oligos for oligo library\n",
    "# exclude extra introduction of cys into smurfp and also exclude any change of Cys52. But still keep the mutation of Cys66 and Cys103\n",
    "oligoPdf = Pfasta.copy()\n",
    "i = 0\n",
    "for idx, row in Pfasta.iterrows():\n",
    "    Seq = row['seq']\n",
    "    ID = row['ID']\n",
    "    if 'geneP' in ID:\n",
    "        i += 1\n",
    "        oligoPdf = oligoPdf.drop(idx)\n",
    "print(i)"
   ]
  },
  {
   "cell_type": "code",
   "execution_count": 6,
   "id": "6042a547",
   "metadata": {},
   "outputs": [
    {
     "data": {
      "text/html": [
       "<div>\n",
       "<style scoped>\n",
       "    .dataframe tbody tr th:only-of-type {\n",
       "        vertical-align: middle;\n",
       "    }\n",
       "\n",
       "    .dataframe tbody tr th {\n",
       "        vertical-align: top;\n",
       "    }\n",
       "\n",
       "    .dataframe thead th {\n",
       "        text-align: right;\n",
       "    }\n",
       "</style>\n",
       "<table border=\"1\" class=\"dataframe\">\n",
       "  <thead>\n",
       "    <tr style=\"text-align: right;\">\n",
       "      <th></th>\n",
       "      <th>ID</th>\n",
       "      <th>seq</th>\n",
       "    </tr>\n",
       "  </thead>\n",
       "  <tbody>\n",
       "    <tr>\n",
       "      <th>0</th>\n",
       "      <td>Mkandler_PSTK_oligoP_allmut-1_F</td>\n",
       "      <td>ATATAGATGCCGTCCTAGCG</td>\n",
       "    </tr>\n",
       "    <tr>\n",
       "      <th>1</th>\n",
       "      <td>Mkandler_PSTK_oligoP_allumt-1_R</td>\n",
       "      <td>ATGGTAGTAATAAGGGCGACC</td>\n",
       "    </tr>\n",
       "    <tr>\n",
       "      <th>2</th>\n",
       "      <td>Mkandler_PSTK_oligoP_allmut-2_F</td>\n",
       "      <td>GGCGAGAGGAGATATAGAGG</td>\n",
       "    </tr>\n",
       "    <tr>\n",
       "      <th>3</th>\n",
       "      <td>Mkandler_PSTK_oligoP_allumt-2_R</td>\n",
       "      <td>ATATCGAACAGCTGTGCACG</td>\n",
       "    </tr>\n",
       "    <tr>\n",
       "      <th>4</th>\n",
       "      <td>Mkandler_PSTK_oligoP_allmut-3_F</td>\n",
       "      <td>CCCGATAGCTGAGAAAGAGG</td>\n",
       "    </tr>\n",
       "    <tr>\n",
       "      <th>...</th>\n",
       "      <td>...</td>\n",
       "      <td>...</td>\n",
       "    </tr>\n",
       "    <tr>\n",
       "      <th>197</th>\n",
       "      <td>C_intmja_SD_oligoP_allumt-5_R</td>\n",
       "      <td>CTCCTTCTAAGATGAGGCGG</td>\n",
       "    </tr>\n",
       "    <tr>\n",
       "      <th>198</th>\n",
       "      <td>C_intmja_SD_oligoP_allmut-6_F</td>\n",
       "      <td>GTAGCAAAAGGCATCGTGAG</td>\n",
       "    </tr>\n",
       "    <tr>\n",
       "      <th>199</th>\n",
       "      <td>C_intmja_SD_oligoP_allumt-6_R</td>\n",
       "      <td>CCGTCATATAGCATGGGTCG</td>\n",
       "    </tr>\n",
       "    <tr>\n",
       "      <th>212</th>\n",
       "      <td>C_KOD_oligoP_allmut-1_F</td>\n",
       "      <td>TATACGTCGCTTGTTCCAGTGA</td>\n",
       "    </tr>\n",
       "    <tr>\n",
       "      <th>213</th>\n",
       "      <td>C_KOD_oligoP_allumt-1_R</td>\n",
       "      <td>GTTGATCCTAGTGTTATTTTGGTCG</td>\n",
       "    </tr>\n",
       "  </tbody>\n",
       "</table>\n",
       "<p>108 rows × 2 columns</p>\n",
       "</div>"
      ],
      "text/plain": [
       "                                  ID                        seq\n",
       "0    Mkandler_PSTK_oligoP_allmut-1_F       ATATAGATGCCGTCCTAGCG\n",
       "1    Mkandler_PSTK_oligoP_allumt-1_R      ATGGTAGTAATAAGGGCGACC\n",
       "2    Mkandler_PSTK_oligoP_allmut-2_F       GGCGAGAGGAGATATAGAGG\n",
       "3    Mkandler_PSTK_oligoP_allumt-2_R       ATATCGAACAGCTGTGCACG\n",
       "4    Mkandler_PSTK_oligoP_allmut-3_F       CCCGATAGCTGAGAAAGAGG\n",
       "..                               ...                        ...\n",
       "197    C_intmja_SD_oligoP_allumt-5_R       CTCCTTCTAAGATGAGGCGG\n",
       "198    C_intmja_SD_oligoP_allmut-6_F       GTAGCAAAAGGCATCGTGAG\n",
       "199    C_intmja_SD_oligoP_allumt-6_R       CCGTCATATAGCATGGGTCG\n",
       "212          C_KOD_oligoP_allmut-1_F     TATACGTCGCTTGTTCCAGTGA\n",
       "213          C_KOD_oligoP_allumt-1_R  GTTGATCCTAGTGTTATTTTGGTCG\n",
       "\n",
       "[108 rows x 2 columns]"
      ]
     },
     "execution_count": 6,
     "metadata": {},
     "output_type": "execute_result"
    }
   ],
   "source": [
    "oligoPdf"
   ]
  },
  {
   "cell_type": "code",
   "execution_count": 10,
   "id": "8fc39abe",
   "metadata": {},
   "outputs": [],
   "source": [
    "oligoPdf.to_csv('20240312OligoP.csv')"
   ]
  },
  {
   "cell_type": "code",
   "execution_count": 6,
   "id": "8fb13c8f",
   "metadata": {},
   "outputs": [
    {
     "name": "stdout",
     "output_type": "stream",
     "text": [
      "108\n"
     ]
    }
   ],
   "source": [
    "GenePdf = Pfasta.copy()\n",
    "i = 0\n",
    "for idx, row in Pfasta.iterrows():\n",
    "    Seq = row['seq']\n",
    "    ID = row['ID']\n",
    "    if 'oligoP' in ID:\n",
    "        i += 1\n",
    "        GenePdf = GenePdf.drop(idx)\n",
    "print(i)"
   ]
  },
  {
   "cell_type": "code",
   "execution_count": 7,
   "id": "d26bb4ea",
   "metadata": {},
   "outputs": [],
   "source": [
    "GenePdf.to_csv('20240520GeneP.csv')"
   ]
  },
  {
   "cell_type": "code",
   "execution_count": null,
   "id": "c0f732cd",
   "metadata": {},
   "outputs": [],
   "source": []
  }
 ],
 "metadata": {
  "kernelspec": {
   "display_name": "Python 3 (ipykernel)",
   "language": "python",
   "name": "python3"
  },
  "language_info": {
   "codemirror_mode": {
    "name": "ipython",
    "version": 3
   },
   "file_extension": ".py",
   "mimetype": "text/x-python",
   "name": "python",
   "nbconvert_exporter": "python",
   "pygments_lexer": "ipython3",
   "version": "3.8.16"
  }
 },
 "nbformat": 4,
 "nbformat_minor": 5
}
